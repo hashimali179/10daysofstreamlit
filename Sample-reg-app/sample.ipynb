{
 "cells": [
  {
   "cell_type": "code",
   "execution_count": 4,
   "metadata": {},
   "outputs": [
    {
     "ename": "NameError",
     "evalue": "name 'input_df' is not defined",
     "output_type": "error",
     "traceback": [
      "\u001b[1;31m---------------------------------------------------------------------------\u001b[0m",
      "\u001b[1;31mNameError\u001b[0m                                 Traceback (most recent call last)",
      "\u001b[1;32mc:\\Users\\Hashim\\Documents\\GitHub\\10daysofstreamlit\\Day-10\\sample.ipynb Cell 1\u001b[0m in \u001b[0;36m<cell line: 12>\u001b[1;34m()\u001b[0m\n\u001b[0;32m     <a href='vscode-notebook-cell:/c%3A/Users/Hashim/Documents/GitHub/10daysofstreamlit/Day-10/sample.ipynb#W0sZmlsZQ%3D%3D?line=10'>11</a>\u001b[0m encode \u001b[39m=\u001b[39m [\u001b[39m'\u001b[39m\u001b[39mFuel_Type\u001b[39m\u001b[39m'\u001b[39m, \u001b[39m'\u001b[39m\u001b[39mSeller_Type\u001b[39m\u001b[39m'\u001b[39m, \u001b[39m'\u001b[39m\u001b[39mTransmission\u001b[39m\u001b[39m'\u001b[39m]\n\u001b[0;32m     <a href='vscode-notebook-cell:/c%3A/Users/Hashim/Documents/GitHub/10daysofstreamlit/Day-10/sample.ipynb#W0sZmlsZQ%3D%3D?line=11'>12</a>\u001b[0m \u001b[39mfor\u001b[39;00m col \u001b[39min\u001b[39;00m encode:\n\u001b[1;32m---> <a href='vscode-notebook-cell:/c%3A/Users/Hashim/Documents/GitHub/10daysofstreamlit/Day-10/sample.ipynb#W0sZmlsZQ%3D%3D?line=12'>13</a>\u001b[0m     dummy \u001b[39m=\u001b[39m pd\u001b[39m.\u001b[39mget_dummies(input_df[col], prefix\u001b[39m=\u001b[39mcol)\n\u001b[0;32m     <a href='vscode-notebook-cell:/c%3A/Users/Hashim/Documents/GitHub/10daysofstreamlit/Day-10/sample.ipynb#W0sZmlsZQ%3D%3D?line=13'>14</a>\u001b[0m     df \u001b[39m=\u001b[39m pd\u001b[39m.\u001b[39mconcat([input_df,dummy], axis\u001b[39m=\u001b[39m\u001b[39m1\u001b[39m)\n\u001b[0;32m     <a href='vscode-notebook-cell:/c%3A/Users/Hashim/Documents/GitHub/10daysofstreamlit/Day-10/sample.ipynb#W0sZmlsZQ%3D%3D?line=14'>15</a>\u001b[0m     \u001b[39mdel\u001b[39;00m df[col]\n",
      "\u001b[1;31mNameError\u001b[0m: name 'input_df' is not defined"
     ]
    }
   ],
   "source": [
    "import pandas as pd\n",
    "import os\n",
    "data = [5, 1, 5000000, 100000, 'Dealer', 'Petrol', 'Automatic']\n",
    "input_df = pd.DataFrame(data)\n",
    "\n",
    "def load_data():\n",
    "    # Construct the file path to final_car_data.csv\n",
    "    return pd.read_csv('final_car_data.csv')\n",
    "\n",
    "car_data_raw = load_data()\n",
    "cars = car_data_raw.drop(columns=['Present_Price'])\n",
    "\n",
    "# Encoding of ordinal features\n",
    "encode = ['Fuel_Type', 'Seller_Type', 'Transmission']\n",
    "for col in encode:\n",
    "    dummy = pd.get_dummies(input_df[col], prefix=col)\n",
    "    df = pd.concat([input_df,dummy], axis=1)\n",
    "    del df[col]\n",
    "\n",
    "# Drop original categorical columns after encoding\n",
    "df.drop(encode, axis=1, inplace=True)"
   ]
  },
  {
   "cell_type": "code",
   "execution_count": null,
   "metadata": {},
   "outputs": [],
   "source": []
  }
 ],
 "metadata": {
  "kernelspec": {
   "display_name": "spyder",
   "language": "python",
   "name": "python3"
  },
  "language_info": {
   "codemirror_mode": {
    "name": "ipython",
    "version": 3
   },
   "file_extension": ".py",
   "mimetype": "text/x-python",
   "name": "python",
   "nbconvert_exporter": "python",
   "pygments_lexer": "ipython3",
   "version": "3.9.13"
  },
  "orig_nbformat": 4
 },
 "nbformat": 4,
 "nbformat_minor": 2
}
